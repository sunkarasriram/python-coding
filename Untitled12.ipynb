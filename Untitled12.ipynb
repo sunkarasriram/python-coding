{
  "nbformat": 4,
  "nbformat_minor": 0,
  "metadata": {
    "colab": {
      "provenance": [],
      "authorship_tag": "ABX9TyPtnKZIvg3BujwhkuKPFNEq",
      "include_colab_link": true
    },
    "kernelspec": {
      "name": "python3",
      "display_name": "Python 3"
    },
    "language_info": {
      "name": "python"
    }
  },
  "cells": [
    {
      "cell_type": "markdown",
      "metadata": {
        "id": "view-in-github",
        "colab_type": "text"
      },
      "source": [
        "<a href=\"https://colab.research.google.com/github/sunkarasriram/python-coding/blob/main/Untitled12.ipynb\" target=\"_parent\"><img src=\"https://colab.research.google.com/assets/colab-badge.svg\" alt=\"Open In Colab\"/></a>"
      ]
    },
    {
      "cell_type": "code",
      "execution_count": 4,
      "metadata": {
        "colab": {
          "base_uri": "https://localhost:8080/"
        },
        "id": "7jBnpiNFWFxf",
        "outputId": "33e71fd6-fd80-4097-85f0-54c11e4aeacc"
      },
      "outputs": [
        {
          "output_type": "stream",
          "name": "stdout",
          "text": [
            "enter a number-2\n",
            "negaitive\n"
          ]
        }
      ],
      "source": [
        "a=int(input(\"enter a number\"))\n",
        "\n",
        "if a>0:\n",
        "    print(\"positive\")\n",
        "else:\n",
        "    print(\"negaitive\")\n"
      ]
    },
    {
      "cell_type": "code",
      "source": [
        "n=int(input(\"enter a number\"))\n",
        "sum=0\n",
        "for i in range(1,n+1):\n",
        "  sum+=i\n",
        "print(\"sum of 1st n natural number is\",sum)\n"
      ],
      "metadata": {
        "colab": {
          "base_uri": "https://localhost:8080/"
        },
        "id": "PxSFssWPWkAd",
        "outputId": "8bf9b1c0-e9b6-49b2-cb51-c1fb10a30ed1"
      },
      "execution_count": 54,
      "outputs": [
        {
          "output_type": "stream",
          "name": "stdout",
          "text": [
            "enter a number6\n",
            "sum of 1st n natural number is 21\n"
          ]
        }
      ]
    },
    {
      "cell_type": "code",
      "source": [
        "a=int(input(\"enter a number\"))\n",
        "if a%2==0:\n",
        "  print(\"even\")\n",
        "else:\n",
        "  print(\"odd\")"
      ],
      "metadata": {
        "colab": {
          "base_uri": "https://localhost:8080/"
        },
        "id": "geqUbpghYzsz",
        "outputId": "473f593b-1bde-430e-b4e6-22ce1863b59d"
      },
      "execution_count": 16,
      "outputs": [
        {
          "output_type": "stream",
          "name": "stdout",
          "text": [
            "enter a number5\n",
            "odd\n"
          ]
        }
      ]
    },
    {
      "cell_type": "code",
      "source": [
        "num=int(input(\"Enter a Number::\"))\n",
        "\n",
        "if num==1:\n",
        "    print(f\"{num} is a not prime number😒\")\n",
        "else:\n",
        "  for i in range (2,num):\n",
        "    if num%i==0:\n",
        "      print(f\"{num} is a not prime number.\")\n",
        "      break\n",
        "  else:\n",
        "    print(f\"{num} is prime number.\")"
      ],
      "metadata": {
        "colab": {
          "base_uri": "https://localhost:8080/"
        },
        "id": "9sL9XlTaaa2E",
        "outputId": "a4c8bdec-633f-41ea-b650-690228992121"
      },
      "execution_count": 41,
      "outputs": [
        {
          "output_type": "stream",
          "name": "stdout",
          "text": [
            "Enter a Number::67\n",
            "67 is prime number.\n"
          ]
        }
      ]
    },
    {
      "cell_type": "code",
      "source": [
        "n=int(input())\n",
        "for i in range(1,n+1):\n",
        "  for j in range(i):\n",
        "      print(\"*\" , end=\"\")\n",
        "  print()"
      ],
      "metadata": {
        "colab": {
          "base_uri": "https://localhost:8080/"
        },
        "id": "wH8NuloudpYQ",
        "outputId": "0b83eef0-2672-47fe-9962-c00e1abaaf02"
      },
      "execution_count": 49,
      "outputs": [
        {
          "output_type": "stream",
          "name": "stdout",
          "text": [
            "4\n",
            "*\n",
            "**\n",
            "***\n",
            "****\n"
          ]
        }
      ]
    }
  ]
}